{
  "nbformat": 4,
  "nbformat_minor": 0,
  "metadata": {
    "colab": {
      "provenance": [],
      "authorship_tag": "ABX9TyM7XeAV8k2E5q8CH4/lYSqi",
      "include_colab_link": true
    },
    "kernelspec": {
      "name": "python3",
      "display_name": "Python 3"
    },
    "language_info": {
      "name": "python"
    }
  },
  "cells": [
    {
      "cell_type": "markdown",
      "metadata": {
        "id": "view-in-github",
        "colab_type": "text"
      },
      "source": [
        "<a href=\"https://colab.research.google.com/github/rashomon999/TallerUltimo/blob/main/2_4.ipynb\" target=\"_parent\"><img src=\"https://colab.research.google.com/assets/colab-badge.svg\" alt=\"Open In Colab\"/></a>"
      ]
    },
    {
      "cell_type": "markdown",
      "source": [
        "(1) Discute la continuidad de la función dada en el punto especificado:\n",
        "\n",
        "(a) Para $f(t) = 3t^2 - 6$ en $t = 2$\n",
        "- Calculamos el valor de la función en $t = 2$: $f(2) = 3(2)^2 - 6 = 12 - 6 = 6$\n",
        "- El límite cuando $t$ se aproxima a 2 es $\\lim_{t \\to 2} f(t) = \\lim_{t \\to 2} (3t^2 - 6) = 6$\n",
        "- Ya que el valor de $f(2)$ y el límite coinciden, la función es continua en $t = 2$\n",
        "- **Conclusión** $f(t)$ es continua en $t = 2$\n",
        "\n",
        "(b) Para $f(x) = \\frac{2x + 5}{x - 16}$ en $x = 17$\n",
        "- Calculamos el valor de la función en $x = 17$: $f(17) = \\frac{2(17) + 5}{17 - 16} = \\frac{34 + 5}{1} = 39$\n",
        "- El límite cuando $x$ se aproxima a 17 es $\\lim_{x \\to 17} f(x) = \\lim_{x \\to 17} \\frac{2x + 5}{x - 16} = 39$\n",
        "- Ya que el valor de $f(17)$ y el límite coinciden, la función es continua en $x = 17$\n",
        "- **Conclusión** $f(x)$ es continua en $x = 17$\n",
        "\n",
        "(c) Para $f(x) = \\frac{2x + 5}{x - 16}$ en $x = 16$\n",
        "- La función no está definida en $x = 16$ ya que el denominador se vuelve cero\n",
        "- No es posible calcular el límite de la función en $x = 16$ debido a la discontinuidad\n",
        "- **Conclusión** $f(x)$ no es continua en $x = 16$\n",
        "\n",
        "(d) Para $h(s) = \\frac{s^2 - 1}{s + 1}$ en $s = 1$\n",
        "- Simplificamos la función $h(s) = \\frac{(s - 1)(s + 1)}{s + 1}$ para $s \\neq -1$\n",
        "- La función se simplifica a $h(s) = s - 1$ cuando $s \\neq -1$\n",
        "- El valor de la función en $s = 1$ es $h(1) = 1 - 1 = 0$\n",
        "- El límite cuando $s$ se aproxima a 1 es $\\lim_{s \\to 1} h(s) = \\lim_{s \\to 1} (s - 1) = 0$\n",
        "- Ya que el valor de $h(1)$ y el límite coinciden, la función es continua en $s = 1$\n",
        "- **Conclusión** $h(s)$ es continua en $s = 1$\n",
        "\n",
        "(e) Para $h(s) = \\frac{s^2 - 1}{s + 1}$ en $s = -1$\n",
        "- Simplificamos la función de nuevo $h(s) = \\frac{(s - 1)(s + 1)}{s + 1}$ para $s \\neq -1$\n",
        "- En $s = -1$, el denominador se vuelve cero, lo que genera una indeterminación\n",
        "- **Conclusión** $h(s)$ no es continua en $s = -1$\n",
        "\n"
      ],
      "metadata": {
        "id": "CuSMIvnAbu-x"
      }
    },
    {
      "cell_type": "markdown",
      "source": [
        "(2) Discute la continuidad de la función\n",
        "\n",
        "$$ g(t) = \\begin{cases}\n",
        "4t - 1 & \\text{si} \\ t \\leq 2 \\\\\n",
        "t + 5 & \\text{si} \\ t > 2\n",
        "\\end{cases} $$\n",
        "\n",
        "en $$ t = 2 $$\n",
        "\n",
        "- Calculamos el valor de la función en $$ t = 2 $$ $$ g(2) = 4(2) - 1 = 8 - 1 = 7 $$\n",
        "- Calculamos el límite cuando $$ t $$ se aproxima a 2 por la izquierda: $$ \\lim_{t \\to 2^-} g(t) = \\lim_{t \\to 2^-} (4t - 1) = 7 $$\n",
        "- Calculamos el límite cuando $$ t $$ se aproxima a 2 por la derecha: $$ \\lim_{t \\to 2^+} g(t) = \\lim_{t \\to 2^+} (t + 5) = 7 $$\n",
        "- Ya que el valor de $$ g(2) $$ y los límites laterales coinciden, la función es continua en $$ t = 2 $$\n",
        "\n",
        "**Conclusión**: $$ g(t) $$ es continua en $$ t = 2 $$\n"
      ],
      "metadata": {
        "id": "lXoBKrdSc-iK"
      }
    },
    {
      "cell_type": "markdown",
      "source": [
        "(3) Discute la continuidad de las siguientes funciones.\n",
        "\n",
        "(a) $g(x) = 4x^{23} - x^{18} + 16x - 3$\n",
        "\n",
        "- Esta es una función polinómica, y los polinomios son continuos en todo el dominio de los números reales.\n",
        "- **Conclusión**: $g(x)$ es continua en todo $\\mathbb{R}$.\n",
        "\n",
        "(b) $f(t) = \\frac{t^2 - t - 6}{t + 2}$\n",
        "\n",
        "- Factorizando el numerador: $t^2 - t - 6 = (t - 3)(t + 2)$. La función puede simplificarse a $f(t) = t - 3$, pero no está definida en $t = -2$ debido a la división por cero.\n",
        "- **Conclusión**: $f(t)$ es continua en todo $\\mathbb{R}$ excepto en $t = -2$.\n",
        "\n",
        "(c) $g(t) = \\frac{32t - 8}{t}$\n",
        "\n",
        "- Simplificando: $g(t) = 32 - \\frac{8}{t}$, la función tiene una discontinuidad en $t = 0$, ya que no está definida allí.\n",
        "- **Conclusión**: $g(t)$ es continua en todo $\\mathbb{R}$ excepto en $t = 0$.\n",
        "\n",
        "(d) $f(u) = \\frac{8}{u^2 - 4}$\n",
        "\n",
        "- Factorizando el denominador: $u^2 - 4 = (u - 2)(u + 2)$. La función no está definida en $u = 2$ ni en $u = -2$ debido a la división por cero.\n",
        "- **Conclusión**: $f(u)$ es continua en todo $\\mathbb{R}$ excepto en $u = 2$ y $u = -2$.\n",
        "\n",
        "(e) $f(t) = \\sqrt{t^2 - 4}$\n",
        "\n",
        "- La función está definida cuando $t^2 - 4 \\geq 0$, es decir, cuando $|t| \\geq 2$.\n",
        "- **Conclusión**: $f(t)$ es continua en los intervalos $(-\\infty, -2] \\cup [2, \\infty)$.\n",
        "\n",
        "(f) $g(x) = \\frac{1}{\\sqrt{9 - x^2}}$\n",
        "\n",
        "- La función está definida cuando $9 - x^2 > 0$, es decir, cuando $|x| < 3$.\n",
        "- **Conclusión**: $g(x)$ es continua en el intervalo abierto $(-3, 3)$.\n"
      ],
      "metadata": {
        "id": "Ay7_tCZie8IX"
      }
    },
    {
      "cell_type": "markdown",
      "source": [
        "(4) Discute la continuidad de la función:\n",
        "\n",
        "$f(x) =\n",
        "\\begin{cases}\n",
        "3x + 2, & \\text{si} \\ x < 1 \\\\\n",
        "3x + 1, & \\text{si} \\ x \\geq 1\n",
        "\\end{cases}$\n",
        "\n",
        "Para verificar la continuidad en $x = 1$, necesitamos comprobar tres condiciones:\n",
        "\n",
        "1. **Existencia de $\\lim_{x \\to 1^-} f(x)$:**\n",
        "   - Cuando $x$ se aproxima a 1 por la izquierda (usando $3x + 2$):\n",
        "   $\\lim_{x \\to 1^-} f(x) = 3(1) + 2 = 5$.\n",
        "\n",
        "2. **Existencia de $\\lim_{x \\to 1^+} f(x)$:**\n",
        "   - Cuando $x$ se aproxima a 1 por la derecha (usando $3x + 1$):\n",
        "   $\\lim_{x \\to 1^+} f(x) = 3(1) + 1 = 4$.\n",
        "\n",
        "3. **Valor de $f(1)$:**\n",
        "   - Dado que $x \\geq 1$, usamos la segunda parte de la función:\n",
        "   $f(1) = 3(1) + 1 = 4$.\n",
        "\n",
        "Conclusión:\n",
        "- $\\lim_{x \\to 1^-} f(x) \\neq \\lim_{x \\to 1^+} f(x)$, por lo tanto, el límite en $x = 1$ no existe.\n",
        "- **Conclusión**: La función $f(x)$ es discontinua en $x = 1$.\n",
        "\n",
        "\n"
      ],
      "metadata": {
        "id": "89FYbvCJlaep"
      }
    },
    {
      "cell_type": "markdown",
      "source": [
        "(5) Discute la continuidad de la función:\n",
        "\n",
        "$$ h(z) =\n",
        "\\begin{cases}\n",
        "z^2 - 1 & \\text{si } z \\leq -1 \\\\\n",
        "z - 1 & \\text{si } z > -1\n",
        "\\end{cases} $$\n",
        "\n",
        "- Para discutir la continuidad en $z = -1$, necesitamos verificar si los límites por la izquierda y por la derecha en $z = -1$ coinciden con el valor de la función en ese punto.\n",
        "\n",
        "(a) Para $z \\leq -1$, la función es $h(z) = z^2 - 1$.\n",
        "- El valor de la función en $z = -1$ es $h(-1) = (-1)^2 - 1 = 0$.\n",
        "\n",
        "(b) Para $z > -1$, la función es $h(z) = z - 1$.\n",
        "- Calculamos el límite cuando $z$ se aproxima a $-1$ por la derecha: $\\lim_{z \\to -1^+} h(z) = \\lim_{z \\to -1^+} (z - 1) = -1 - 1 = -2$.\n",
        "\n",
        "(c) Calculamos el límite cuando $z$ se aproxima a $-1$ por la izquierda: $\\lim_{z \\to -1^-} h(z) = \\lim_{z \\to -1^-} (z^2 - 1) = (-1)^2 - 1 = 0$.\n",
        "\n",
        "- Dado que el valor de la función en $z = -1$ es 0, pero el límite por la derecha es $-2$, los límites no coinciden en $z = -1$.\n",
        "\n",
        "**Conclusión**: La función $h(z)$ no es continua en $z = -1$.\n"
      ],
      "metadata": {
        "id": "L3zHdegsnsWS"
      }
    },
    {
      "cell_type": "markdown",
      "source": [
        "(6) La función:\n",
        "\n",
        "$$ f(t) = \\frac{t^2 - 7t + 12}{t - 4} $$\n",
        "\n",
        "no es continua en $t = 4$. Vamos a analizar si esta discontinuidad es removible y definir una nueva función $g$ que sea continua en $t = 4$.\n",
        "\n",
        "- Primero, factorizamos el numerador de la función:\n",
        "$$ t^2 - 7t + 12 = (t - 4)(t - 3) $$\n",
        "\n",
        "- La función se simplifica a:\n",
        "$$ f(t) = \\frac{(t - 4)(t - 3)}{t - 4} $$ para $t \\neq 4$.\n",
        "\n",
        "- Simplificando, obtenemos:\n",
        "$$ f(t) = t - 3 $$ para $t \\neq 4$.\n",
        "\n",
        "- El valor de la función cuando $t$ se aproxima a $4$ es:\n",
        "$$ \\lim_{t \\to 4} f(t) = \\lim_{t \\to 4} (t - 3) = 4 - 3 = 1 $$.\n",
        "\n",
        "- La discontinuidad en $t = 4$ es removible, ya que el límite existe y es finito.\n",
        "\n",
        "**Nueva función**:\n",
        "Definimos una nueva función $g(t)$ que sea continua en $t = 4$:\n",
        "\n",
        "$$ g(t) =\n",
        "\\begin{cases}\n",
        "t - 3 & \\text{si } t \\neq 4 \\\\\n",
        "1 & \\text{si } t = 4\n",
        "\\end{cases} $$\n",
        "\n",
        "**Conclusión**: La discontinuidad es removible, y la nueva función $g(t)$ es continua en $t = 4$.\n"
      ],
      "metadata": {
        "id": "HhulEv4XnvKf"
      }
    },
    {
      "cell_type": "markdown",
      "source": [
        "(7) La función:\n",
        "\n",
        "$$ f(t) = \\frac{t^2 - 7t + 12}{t - 5} $$\n",
        "\n",
        "no es continua en $t = 5$. Vamos a analizar si esta discontinuidad es removible y definir una nueva función $g$ que sea continua en $t = 5$.\n",
        "\n",
        "- Primero, factorizamos el numerador de la función:\n",
        "$$ t^2 - 7t + 12 = (t - 3)(t - 4) $$\n",
        "\n",
        "- La función se convierte en:\n",
        "$$ f(t) = \\frac{(t - 3)(t - 4)}{t - 5} $$.\n",
        "\n",
        "- Como no hay ningún factor común entre el numerador y el denominador, no podemos simplificar la función.\n",
        "\n",
        "- El valor de la función cuando $t$ se aproxima a $5$ es:\n",
        "$$ \\lim_{t \\to 5} f(t) = \\frac{(5 - 3)(5 - 4)}{5 - 5} = \\frac{(2)(1)}{0} $$.\n",
        "\n",
        "- Esto implica que el límite tiende a infinito, ya que hay una división por cero.\n",
        "\n",
        "- **Conclusión**: La discontinuidad en $t = 5$ **no es removible** porque el límite no es finito.\n",
        "\n",
        "No se puede definir una nueva función $g(t)$ que sea continua en $t = 5$, ya que la discontinuidad es de tipo no removible.\n"
      ],
      "metadata": {
        "id": "yuMq9tR_oLBc"
      }
    },
    {
      "cell_type": "markdown",
      "source": [
        "(8) Explicación de por qué $g(x) = x^2 \\sin(x^2 + 1)$ es continua en $(-\\infty, \\infty)$:\n",
        "\n",
        "- La función $g(x)$ es el producto de dos funciones: $x^2$ y $\\sin(x^2 + 1)$.\n",
        "  \n",
        "1. La función $x^2$ es un polinomio, y los polinomios son continuos en todo su dominio, que es $(-\\infty, \\infty)$.\n",
        "\n",
        "2. La función $\\sin(x^2 + 1)$ es una composición de funciones continuas:\n",
        "   - $x^2 + 1$ es un polinomio, por lo tanto es continuo en $(-\\infty, \\infty)$.\n",
        "   - $\\sin(u)$, donde $u = x^2 + 1$, es continua en todo $\\mathbb{R}$.\n",
        "\n",
        "- Como ambas funciones $x^2$ y $\\sin(x^2 + 1)$ son continuas en $(-\\infty, \\infty)$, y el producto de funciones continuas es continuo, podemos concluir que:\n",
        "\n",
        "**Conclusión**: $g(x) = x^2 \\sin(x^2 + 1)$ es continua en todo el intervalo $(-\\infty, \\infty)$.\n"
      ],
      "metadata": {
        "id": "M2PgU6LboZhX"
      }
    },
    {
      "cell_type": "markdown",
      "source": [
        "(9) Discusión de la continuidad de las funciones definidas por la función de Heaviside.\n",
        "\n",
        "La función de Heaviside está definida como:\n",
        "$$ H(t) = \\begin{cases}\n",
        "0 & \\text{si } t < 0 \\\\\n",
        "1 & \\text{si } t \\geq 0\n",
        "\\end{cases} $$\n",
        "\n",
        "(a) Para la función $f(t) = H(t^2 + 1)$:\n",
        "\n",
        "- El argumento de la función de Heaviside, $t^2 + 1$, es siempre positivo ya que $t^2 \\geq 0$ para todos los $t \\in \\mathbb{R}$.\n",
        "- Por lo tanto, $f(t) = H(t^2 + 1) = 1$ para todos los $t$.\n",
        "- **Conclusión**: $f(t)$ es continua en todo el intervalo $[-5, 5]$.\n",
        "\n",
        "(b) Para la función $g(t) = H(t^2 - 1)$:\n",
        "\n",
        "- El argumento $t^2 - 1$ se vuelve cero en $t = -1$ y $t = 1$.\n",
        "- Para $t < -1$, $g(t) = H(t^2 - 1) = 0$.\n",
        "- Para $-1 < t < 1$, $g(t) = H(t^2 - 1) = 1$.\n",
        "- Para $t > 1$, $g(t) = H(t^2 - 1) = 0$.\n",
        "- En $t = -1$ y $t = 1$, hay saltos en el valor de la función.\n",
        "- **Conclusión**: $g(t)$ no es continua en $t = -1$ y $t = 1$.\n",
        "\n",
        "(c) Para la función $h(t) = H(\\sin(\\pi t))$:\n",
        "\n",
        "- La función $\\sin(\\pi t)$ oscila entre -1 y 1. La función Heaviside cambia en los puntos donde $\\sin(\\pi t) = 0$, que ocurre en $t = n$, donde $n$ es un entero.\n",
        "- Para $t < 0$, $h(t) = 0$ cuando $\\sin(\\pi t) < 0$ y $h(t) = 1$ cuando $\\sin(\\pi t) \\geq 0$.\n",
        "- En los puntos $t = n$, donde $n$ es un entero, hay saltos en el valor de la función.\n",
        "- **Conclusión**: $h(t)$ no es continua en los enteros $t = n$.\n",
        "\n",
        "**Gráficas**:\n",
        "\n",
        "- $f(t)$ es constante y igual a 1 en el intervalo $[-5, 5]$.\n",
        "- $g(t)$ presenta discontinuidades en $t = -1$ y $t = 1$.\n",
        "- $h(t)$ presenta discontinuidades en todos los enteros dentro del intervalo $[-5, 5]$.\n",
        "\n"
      ],
      "metadata": {
        "id": "UlInjLkZodnA"
      }
    },
    {
      "cell_type": "markdown",
      "source": [
        "(10) Discute la continuidad de $$ f(x) = \\lfloor x \\rfloor $$ y $$ g(x) = \\lceil x \\rceil $$.\n",
        "\n",
        "- La función $$ f(x) = \\lfloor x \\rfloor $$ es la función piso, que devuelve el mayor entero menor o igual a $$ x $$. Esta función presenta discontinuidades en cada número entero, ya que el valor de $$ f(x) $$ cambia bruscamente en esos puntos.\n",
        "- **Conclusión**: $$ f(x) $$ no es continua en los enteros.\n",
        "\n",
        "- La función $$ g(x) = \\lceil x \\rceil $$ es la función techo, que devuelve el menor entero mayor o igual a $$ x $$. Al igual que $$ f(x) $$, $$ g(x) $$ también tiene discontinuidades en cada número entero, pues el valor de $$ g(x) $$ cambia abruptamente en esos puntos.\n",
        "- **Conclusión**: $$ g(x) $$ no es continua en los enteros.\n",
        "\n"
      ],
      "metadata": {
        "id": "P8t22ix1omBk"
      }
    },
    {
      "cell_type": "markdown",
      "source": [
        "(11) Discute la continuidad de $$ f(x) = \\lfloor \\sin(x) \\rfloor $$ y $$ g(x) = \\lceil \\sin(x) \\rceil $$.\n",
        "\n",
        "- La función $$ f(x) = \\lfloor \\sin(x) \\rfloor $$ es la función piso de $$ \\sin(x) $$. La función seno oscila entre -1 y 1. Por lo tanto, $$ f(x) $$ toma los valores -1 o 0 dependiendo de si $$ \\sin(x) $$ está por debajo o por encima de 0. La función tiene discontinuidades en los puntos donde $$ \\sin(x) $$ cruza 0, es decir, en $$ x = n\\pi $$, donde $$ n $$ es un entero.\n",
        "- **Conclusión**: $$ f(x) $$ no es continua en los puntos $$ x = n\\pi $$.\n",
        "\n",
        "- La función $$ g(x) = \\lceil \\sin(x) \\rceil $$ es la función techo de $$ \\sin(x) $$. Dado que $$ \\sin(x) $$ oscila entre -1 y 1, $$ g(x) $$ toma los valores -1 o 1. La función presenta discontinuidades en los puntos donde $$ \\sin(x) $$ cruza 1 o -1, específicamente en $$ x = \\frac{\\pi}{2} + 2n\\pi $$ y $$ x = \\frac{3\\pi}{2} + 2n\\pi $$, donde $$ n $$ es un entero.\n",
        "- **Conclusión**: $$ g(x) $$ no es continua en los puntos $$ x = \\frac{\\pi}{2} + 2n\\pi $$ y $$ x = \\frac{3\\pi}{2} + 2n\\pi $$.\n"
      ],
      "metadata": {
        "id": "HKn9_Zb-pbss"
      }
    }
  ]
}