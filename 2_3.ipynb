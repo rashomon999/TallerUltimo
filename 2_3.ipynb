{
  "nbformat": 4,
  "nbformat_minor": 0,
  "metadata": {
    "colab": {
      "provenance": [],
      "include_colab_link": true
    },
    "kernelspec": {
      "name": "python3",
      "display_name": "Python 3"
    },
    "language_info": {
      "name": "python"
    }
  },
  "cells": [
    {
      "cell_type": "markdown",
      "metadata": {
        "id": "view-in-github",
        "colab_type": "text"
      },
      "source": [
        "<a href=\"https://colab.research.google.com/github/rashomon999/TallerUltimo/blob/main/2_3.ipynb\" target=\"_parent\"><img src=\"https://colab.research.google.com/assets/colab-badge.svg\" alt=\"Open In Colab\"/></a>"
      ]
    },
    {
      "cell_type": "markdown",
      "source": [
        "#Ejercicios 2.3"
      ],
      "metadata": {
        "id": "BggXsUzuM_mx"
      }
    },
    {
      "cell_type": "markdown",
      "source": [
        "Problema 2.3: Evalúa los siguientes límites.\n",
        "\n",
        "1. (a) $$\\lim_{x \\to 2}(4x^2 - 3x)$$\n",
        "- Sustituyendo $$x = 2$$ directamente:\n",
        "- $$4(2)^2 - 3(2) = 4(4) - 6 = 16 - 6 = 10$$\n",
        "- Solución: $$\\lim_{x \\to 2}(4x^2 - 3x) = 10$$\n",
        "\n",
        "(b) $$\\lim_{x \\to 3}(x^3 - 2x + 3)$$\n",
        "- Sustituyendo $$x = 3$$ directamente:\n",
        "- $$(3)^3 - 2(3) + 3 = 27 - 6 + 3 = 24$$\n",
        "- Solución: $$\\lim_{x \\to 3}(x^3 - 2x + 3) = 24$$\n",
        "\n",
        "(c) $$\\lim_{t \\to 1}\\frac{t^2 - 3}{t + 5}$$\n",
        "- Sustituyendo $$t = 1$$ directamente:\n",
        "- $$\\frac{(1)^2 - 3}{1 + 5} = \\frac{1 - 3}{6} = \\frac{-2}{6} = -\\frac{1}{3}$$\n",
        "- Solución: $$\\lim_{t \\to 1}\\frac{t^2 - 3}{t + 5} = -\\frac{1}{3}$$\n",
        "\n",
        "(d) $$\\lim_{z \\to -2}\\frac{z + 2}{z^2 + 3}$$\n",
        "- Sustituyendo $$z = -2$$ directamente:\n",
        "- $$\\frac{-2 + 2}{(-2)^2 + 3} = \\frac{0}{4 + 3} = 0$$\n",
        "- Solución: $$\\lim_{z \\to -2}\\frac{z + 2}{z^2 + 3} = 0$$\n"
      ],
      "metadata": {
        "id": "WwmdJ0FJCUtr"
      }
    },
    {
      "cell_type": "markdown",
      "source": [
        "Problema 2.3: Evalúa los siguientes límites.\n",
        "\n",
        "2.\n",
        "(a) $$\\lim_{x \\to 2} \\frac{x^3 - 8}{x + 2}$$\n",
        "- Factorizando el numerador: $$x^3 - 8 = (x - 2)(x^2 + 2x + 4)$$\n",
        "- El límite se simplifica a: $$\\lim_{x \\to 2} \\frac{(x - 2)(x^2 + 2x + 4)}{x + 2}$$\n",
        "- Al sustituir $$x = 2$$ directamente: $$\\frac{(2 - 2)(2^2 + 2(2) + 4)}{2 + 2} = \\frac{0}{4} = 0$$\n",
        "- Solución: $$\\lim_{x \\to 2} \\frac{x^3 - 8}{x + 2} = 0$$\n",
        "\n",
        "(b) $$\\lim_{x \\to 3} \\frac{x^2 - x - 6}{x - 3}$$\n",
        "- Factorizando el numerador: $$x^2 - x - 6 = (x - 3)(x + 2)$$\n",
        "- El límite se simplifica a: $$\\lim_{x \\to 3} \\frac{(x - 3)(x + 2)}{x - 3} = \\lim_{x \\to 3} (x + 2)$$\n",
        "- Al sustituir $$x = 3$$ directamente: $$3 + 2 = 5$$\n",
        "- Solución: $$\\lim_{x \\to 3} \\frac{x^2 - x - 6}{x - 3} = 5$$\n",
        "\n",
        "(c) $$\\lim_{s \\to -1} \\frac{s^3 + 1}{s^4 - 1}$$\n",
        "- Factorizando el numerador y el denominador: $$s^3 + 1 = (s + 1)(s^2 - s + 1)$$ y $$s^4 - 1 = (s^2 - 1)(s^2 + 1) = (s - 1)(s + 1)(s^2 + 1)$$\n",
        "- El límite se simplifica a: $$\\lim_{s \\to -1} \\frac{(s + 1)(s^2 - s + 1)}{(s - 1)(s + 1)(s^2 + 1)} = \\lim_{s \\to -1} \\frac{s^2 - s + 1}{(s - 1)(s^2 + 1)}$$\n",
        "- Al sustituir $$s = -1$$ directamente: $$\\frac{(-1)^2 - (-1) + 1}{(-1 - 1)((-1)^2 + 1)} = \\frac{1 + 1 + 1}{(-2)(2)} = \\frac{3}{-4} = -\\frac{3}{4}$$\n",
        "- Solución: $$\\lim_{s \\to -1} \\frac{s^3 + 1}{s^4 - 1} = -\\frac{3}{4}$$\n",
        "\n",
        "(d) $$\\lim_{x \\to 1} \\frac{\\sqrt{x} - 1}{x - 1}$$\n",
        "- Usamos la conjugada: $$\\frac{\\sqrt{x} - 1}{x - 1} \\cdot \\frac{\\sqrt{x} + 1}{\\sqrt{x} + 1} = \\frac{x - 1}{(x - 1)(\\sqrt{x} + 1)} = \\frac{1}{\\sqrt{x} + 1}$$\n",
        "- Al sustituir $$x = 1$$ directamente: $$\\frac{1}{\\sqrt{1} + 1} = \\frac{1}{2}$$\n",
        "- Solución: $$\\lim_{x \\to 1} \\frac{\\sqrt{x} - 1}{x - 1} = \\frac{1}{2}$$\n",
        "\n",
        "(e) $$\\lim_{t \\to 2} \\frac{t^3 - 8}{t - 2}$$\n",
        "- Factorizando el numerador: $$t^3 - 8 = (t - 2)(t^2 + 2t + 4)$$\n",
        "- El límite se simplifica a: $$\\lim_{t \\to 2} (t^2 + 2t + 4)$$\n",
        "- Al sustituir $$t = 2$$ directamente: $$2^2 + 2(2) + 4 = 4 + 4 + 4 = 12$$\n",
        "- Solución: $$\\lim_{t \\to 2} \\frac{t^3 - 8}{t - 2} = 12$$\n",
        "\n",
        "(f) $$\\lim_{x \\to 1} \\frac{x^3 - 1}{x^2 - 1}$$\n",
        "- Factorizando el numerador y el denominador: $$x^3 - 1 = (x - 1)(x^2 + x + 1)$$ y $$x^2 - 1 = (x - 1)(x + 1)$$\n",
        "- El límite se simplifica a: $$\\lim_{x \\to 1} \\frac{(x - 1)(x^2 + x + 1)}{(x - 1)(x + 1)} = \\lim_{x \\to 1} \\frac{x^2 + x + 1}{x + 1}$$\n",
        "- Al sustituir $$x = 1$$ directamente: $$\\frac{1^2 + 1 + 1}{1 + 1} = \\frac{3}{2}$$\n",
        "- Solución: $$\\lim_{x \\to 1} \\frac{x^3 - 1}{x^2 - 1} = \\frac{3}{2}$$\n",
        "\n",
        "(g) $$\\lim_{a \\to 4} \\frac{a}{(a - 4)^2}$$\n",
        "- Sustituyendo $$a = 4$$ directamente: $$\\frac{4}{(4 - 4)^2} = \\frac{4}{0}$$\n",
        "- Esto indica que el límite tiende a infinito.\n",
        "- Solución: $$\\lim_{a \\to 4} \\frac{a}{(a - 4)^2} = \\infty$$\n",
        "\n",
        "(h) $$\\lim_{x \\to -2} \\frac{x}{x + 2}$$\n",
        "- Sustituyendo $$x = -2$$ directamente: $$\\frac{-2}{-2 + 2} = \\frac{-2}{0}$$\n",
        "- El denominador es 0, por lo que el límite no existe.\n",
        "- Solución: $$\\lim_{x \\to -2} \\frac{x}{x + 2}$$ no existe.\n"
      ],
      "metadata": {
        "id": "_PB17SfNDjgR"
      }
    },
    {
      "cell_type": "markdown",
      "source": [
        "Problema 2.3: Evalúa los siguientes límites.\n",
        "\n",
        "3.\n",
        "(a) $$\\lim_{x \\to 1^+} (3x^2 + 4)$$\n",
        "- Sustituyendo $$x = 1$$ directamente: $$3(1)^2 + 4 = 3 + 4 = 7$$\n",
        "- Solución: $$\\lim_{x \\to 1^+} (3x^2 + 4) = 7$$\n",
        "\n",
        "(b) $$\\lim_{x \\to 3^-} \\frac{1}{x - 3}$$\n",
        "- Al acercarse $$x$$ a 3 por la izquierda (valores menores a 3), el denominador $$x - 3$$ es negativo.\n",
        "- Esto implica que el límite tiende a $$-\\infty$$.\n",
        "- Solución: $$\\lim_{x \\to 3^-} \\frac{1}{x - 3} = -\\infty$$\n",
        "\n",
        "(c) $$\\lim_{x \\to 3^+} \\frac{1}{x - 3}$$\n",
        "- Al acercarse $$x$$ a 3 por la derecha (valores mayores a 3), el denominador $$x - 3$$ es positivo.\n",
        "- Esto implica que el límite tiende a $$+\\infty$$.\n",
        "- Solución: $$\\lim_{x \\to 3^+} \\frac{1}{x - 3} = +\\infty$$\n",
        "\n",
        "(d) $$\\lim_{t \\to -2^+} \\frac{t}{t + 2}$$\n",
        "- Al acercarse $$t$$ a $$-2$$ por la derecha (valores mayores a $$-2$$), el denominador $$t + 2$$ es positivo pero pequeño, y el numerador es negativo.\n",
        "- Esto implica que el límite tiende a $$-\\infty$$.\n",
        "- Solución: $$\\lim_{t \\to -2^+} \\frac{t}{t + 2} = -\\infty$$\n",
        "\n",
        "(e) $$\\lim_{t \\to -2^-} \\frac{t}{t + 2}$$\n",
        "- Al acercarse $$t$$ a $$-2$$ por la izquierda (valores menores a $$-2$$), el denominador $$t + 2$$ es negativo y pequeño, y el numerador es negativo.\n",
        "- Esto implica que el límite tiende a $$+\\infty$$.\n",
        "- Solución: $$\\lim_{t \\to -2^-} \\frac{t}{t + 2} = +\\infty$$\n",
        "\n",
        "(f) $$\\lim_{x \\to 10^-} \\frac{x^2 - 9x - 10}{x^2 - 8x - 20}$$\n",
        "- Factorizando el numerador: $$x^2 - 9x - 10 = (x - 10)(x + 1)$$\n",
        "- Factorizando el denominador: $$x^2 - 8x - 20 = (x - 10)(x + 2)$$\n",
        "- El límite se simplifica a: $$\\lim_{x \\to 10^-} \\frac{(x - 10)(x + 1)}{(x - 10)(x + 2)} = \\lim_{x \\to 10^-} \\frac{x + 1}{x + 2}$$\n",
        "- Al sustituir $$x = 10$$ directamente: $$\\frac{10 + 1}{10 + 2} = \\frac{11}{12}$$\n",
        "- Solución: $$\\lim_{x \\to 10^-} \\frac{x^2 - 9x - 10}{x^2 - 8x - 20} = \\frac{11}{12}$$\n"
      ],
      "metadata": {
        "id": "beFG5gQ-E_85"
      }
    },
    {
      "cell_type": "markdown",
      "source": [
        "Problema 2.3: Evalúa los siguientes límites.\n",
        "\n",
        "4.\n",
        "(a) $$\\lim_{x \\to 2^+} \\lfloor x \\rfloor$$\n",
        "- La función piso $$\\lfloor x \\rfloor$$ devuelve el mayor entero menor o igual a $$x$$.\n",
        "- Cuando $$x$$ se aproxima a 2 por la derecha (valores mayores a 2, como 2.1), el piso de esos valores es 2.\n",
        "- Solución: $$\\lim_{x \\to 2^+} \\lfloor x \\rfloor = 2$$\n",
        "\n",
        "(b) $$\\lim_{x \\to 2^-} \\lfloor x \\rfloor$$\n",
        "- Cuando $$x$$ se aproxima a 2 por la izquierda (valores menores a 2, como 1.9), el piso de esos valores es 1.\n",
        "- Solución: $$\\lim_{x \\to 2^-} \\lfloor x \\rfloor = 1$$\n",
        "\n",
        "(c) $$\\lim_{x \\to 3^-} \\lceil x \\rceil$$\n",
        "- La función techo $$\\lceil x \\rceil$$ devuelve el menor entero mayor o igual a $$x$$.\n",
        "- Cuando $$x$$ se aproxima a 3 por la izquierda (valores menores a 3, como 2.9), el techo de esos valores es 3.\n",
        "- Solución: $$\\lim_{x \\to 3^-} \\lceil x \\rceil = 3$$\n",
        "\n",
        "(d) $$\\lim_{x \\to 3^+} \\lceil x \\rceil$$\n",
        "- Cuando $$x$$ se aproxima a 3 por la derecha (valores mayores a 3, como 3.1), el techo de esos valores es 4.\n",
        "- Solución: $$\\lim_{x \\to 3^+} \\lceil x \\rceil = 4$$\n",
        "\n",
        "(e) $$\\lim_{x \\to 0^+} \\lfloor \\cos(x) \\rfloor$$\n",
        "- Cuando $$x \\to 0^+$$, el valor de $$\\cos(x)$$ se aproxima a 1 (porque $$\\cos(0) = 1$$).\n",
        "- Como el valor de $$\\cos(x)$$ en este caso es ligeramente menor que 1 para $$x \\to 0^+$$, el piso de esos valores es 0.\n",
        "- Solución: $$\\lim_{x \\to 0^+} \\lfloor \\cos(x) \\rfloor = 0$$\n",
        "\n",
        "(f) $$\\lim_{x \\to 0^+} \\lceil \\sin(x) \\rceil$$\n",
        "- Cuando $$x \\to 0^+$$, el valor de $$\\sin(x)$$ se aproxima a 0 (porque $$\\sin(0) = 0$$).\n",
        "- Como el valor de $$\\sin(x)$$ es ligeramente mayor que 0 para $$x \\to 0^+$$, el techo de esos valores es 1.\n",
        "- Solución: $$\\lim_{x \\to 0^+} \\lceil \\sin(x) \\rceil = 1$$\n"
      ],
      "metadata": {
        "id": "gEJdYnTZGWBK"
      }
    },
    {
      "cell_type": "markdown",
      "source": [
        "Problema 5: Dada la función:\n",
        "\n",
        "$$\n",
        "g(z) =\n",
        "\\left\\{\n",
        "\\begin{array}{ll}\n",
        "3z - 1 & \\text{si } z < 2 \\\\\n",
        "7 - z & \\text{si } z \\geq 2\n",
        "\\end{array}\n",
        "\\right.\n",
        "$$\n",
        "\n",
        "(b) Calcula $ \\lim_{z \\to 2^-} g(z) $:\n",
        "\n",
        "$$\n",
        "\\lim_{z \\to 2^-} g(z) = 3(2) - 1 = 5\n",
        "$$\n",
        "\n",
        "(c) Calcula $ \\lim_{z \\to 2^+} g(z) $:\n",
        "\n",
        "$$\n",
        "\\lim_{z \\to 2^+} g(z) = 7 - 2 = 5\n",
        "$$\n",
        "\n",
        "(d) Existe $ \\lim_{z \\to 2} g(z) $ ya que:\n",
        "\n",
        "$$\n",
        "\\lim_{z \\to 2^-} g(z) = \\lim_{z \\to 2^+} g(z) = 5\n",
        "$$\n",
        "\n",
        "Por lo tanto:\n",
        "\n",
        "$$\n",
        "\\lim_{z \\to 2} g(z) = 5\n",
        "$$\n"
      ],
      "metadata": {
        "id": "35bb7MqXHYd4"
      }
    },
    {
      "cell_type": "markdown",
      "source": [
        "Problema 6: Dada la función:\n",
        "\n",
        "$$\n",
        "h(t) =\n",
        "\\begin{cases}\n",
        "2t + 1, & \\text{si } t \\leq 1 \\\\\n",
        "3t - 1, & \\text{si } t > 1\n",
        "\\end{cases}\n",
        "$$\n",
        "\n",
        "(a) Haz un bosquejo de la gráfica de  h .\n",
        "\n",
        "(b) Calcula $ \\lim_{t \\to 1^-} h(t) $:\n",
        "\n",
        "$$\n",
        "\\lim_{t \\to 1^-} h(t) = 2(1) + 1 = 3\n",
        "$$\n",
        "\n",
        "(c) Calcula $ \\lim_{t \\to 1^+} h(t) $:\n",
        "\n",
        "$$\n",
        "\\lim_{t \\to 1^+} h(t) = 3(1) - 1 = 2\n",
        "$$\n",
        "\n",
        "(d) ¿Existe $ \\lim_{t \\to 1} h(t) $?\n",
        "\n",
        "Dado que:\n",
        "\n",
        "$$\n",
        "\\lim_{t \\to 1^-} h(t) = 3 \\quad \\text{y} \\quad \\lim_{t \\to 1^+} h(t) = 2\n",
        "$$\n",
        "\n",
        "Los límites laterales no son iguales, por lo que:\n",
        "\n",
        "$$\n",
        "\\lim_{t \\to 1} h(t) \\text{ no existe.}\n",
        "$$\n"
      ],
      "metadata": {
        "id": "o0mNSQwYIbYF"
      }
    },
    {
      "cell_type": "markdown",
      "source": [
        "7) $$$$\n",
        "(a) $$ \\lim_{x \\to -\\infty} (3x + 4) = -\\infty $$\n",
        "\n",
        "(b) $$ \\lim_{x \\to -\\infty} \\frac{x^3 + 3x - 1}{2x^2 + 2x + 21} = -\\infty $$\n",
        "\n",
        "(c) $$ \\lim_{u \\to -\\infty} \\frac{u^4 + 3u - 6}{3u^2 + 1} = \\infty $$\n",
        "\n",
        "(d) $$ \\lim_{z \\to -2} \\frac{4z^2 - 3z + 10}{2z^2 + 14z + 9} = -\\frac{32}{11} $$\n",
        "\n",
        "(e) $$ \\lim_{x \\to -\\infty} \\frac{x^2 - 6x + 13}{x^2 - 18x - 25} = 1 $$\n",
        "\n",
        "(f) $$ \\lim_{x \\to 0} \\frac{2\\sqrt{x + 3}}{\\sqrt{x}} = \\infty $$\n",
        "\n",
        "(g) $$ \\lim_{u \\to -\\infty} \\sqrt{\\frac{2u + 1}{u - 2}} = \\sqrt{2} $$\n",
        "\n",
        "(h) $$ \\lim_{x \\to 0} \\frac{\\sqrt{1 + x}}{1 + x} = 1 $$\n",
        "\n",
        "(i) $$ \\lim_{x \\to -\\infty} \\frac{3x + 1}{\\sqrt{4x^2 + 5}} = \\frac{3}{2} $$\n",
        "\n",
        "(j) $$ \\lim_{x \\to -\\infty} \\frac{-3x + 1}{\\sqrt{4x^2 + 5}} = -\\frac{3}{2} $$\n",
        "\n"
      ],
      "metadata": {
        "id": "15CYoZz8I1E4"
      }
    },
    {
      "cell_type": "markdown",
      "source": [
        "(8)\n",
        "$$ f(x) = \\frac{2x}{x - 4} $$\n",
        "\n",
        "(a) Para encontrar $$ \\lim_{x \\to 4^-} f(x) $$:\n",
        "- Cuando $$ x $$ se aproxima a $$ 4 $$ por la izquierda, $$ f(x) $$ tiende a $$ \\frac{2(4)}{4 - 4} = \\frac{8}{0^-} = -\\infty $$.\n",
        "- Por lo tanto, $$ \\lim_{x \\to 4^-} f(x) = -\\infty $$.\n",
        "\n",
        "(b) Para encontrar $$ \\lim_{x \\to 4^+} f(x) $$:\n",
        "- Cuando $$ x $$ se aproxima a $$ 4 $$ por la derecha, $$ f(x) $$ tiende a $$ \\frac{2(4)}{4 - 4} = \\frac{8}{0^+} = +\\infty $$.\n",
        "- Por lo tanto, $$ \\lim_{x \\to 4^+} f(x) = +\\infty $$.\n",
        "\n",
        "(c) Para encontrar $$ \\lim_{x \\to -\\infty} f(x) $$:\n",
        "- Cuando $$ x $$ se aproxima a $$ -\\infty $$, el término dominante en el numerador y denominador son $$ 2x $$ y $$ x $$ respectivamente.\n",
        "- Por lo tanto, $$ \\lim_{x \\to -\\infty} f(x) = \\lim_{x \\to -\\infty} \\frac{2x}{x} = 2 $$.\n",
        "\n",
        "(d) Para encontrar $$ \\lim_{x \\to \\infty} f(x) $$:\n",
        "- Cuando $$ x $$ se aproxima a $$ +\\infty $$, el término dominante es el mismo.\n",
        "- Por lo tanto, $$ \\lim_{x \\to \\infty} f(x) = \\lim_{x \\to \\infty} \\frac{2x}{x} = 2 $$.\n",
        "\n",
        "Con esta información, la gráfica de $$ f(x) $$ se puede dibujar con una asíntota vertical en $$ x = 4 $$, donde la función tiende a menos infinito desde la izquierda y a más infinito desde la derecha. También hay una asíntota horizontal en $$ y = 2 $$ a medida que $$ x $$ se aproxima tanto a infinito positivo como a infinito negativo.\n"
      ],
      "metadata": {
        "id": "fBNh47MdKPCM"
      }
    },
    {
      "cell_type": "markdown",
      "source": [
        "9) $$$$\n",
        "(9) Discuss $$ \\lim_{x \\to \\frac{\\pi}{2}^-} \\tan(x) $$, $$ \\lim_{x \\to \\frac{\\pi}{2}^+} \\tan(x) $$, and $$ \\lim_{x \\to \\frac{\\pi}{2}} \\tan(x) $$.\n",
        "\n",
        "(a) To find $$ \\lim_{x \\to \\frac{\\pi}{2}^-} \\tan(x) $$:\n",
        "- As $$ x $$ approaches $$ \\frac{\\pi}{2} $$ from the left, $$ \\tan(x) $$ approaches $$ +\\infty $$.\n",
        "- Thus, $$ \\lim_{x \\to \\frac{\\pi}{2}^-} \\tan(x) = +\\infty $$.\n",
        "\n",
        "(b) To find $$ \\lim_{x \\to \\frac{\\pi}{2}^+} \\tan(x) $$:\n",
        "- As $$ x $$ approaches $$ \\frac{\\pi}{2} $$ from the right, $$ \\tan(x) $$ approaches $$ -\\infty $$.\n",
        "- Thus, $$ \\lim_{x \\to \\frac{\\pi}{2}^+} \\tan(x) = -\\infty $$.\n",
        "\n",
        "(c) The limit $$ \\lim_{x \\to \\frac{\\pi}{2}} \\tan(x) $$ does not exist, as the left-hand limit approaches $$ +\\infty $$ and the right-hand limit approaches $$ -\\infty $$.\n"
      ],
      "metadata": {
        "id": "92p7GGlLLdbC"
      }
    },
    {
      "cell_type": "markdown",
      "source": [
        "(10) ¿Hacen $$ \\lim_{x \\to \\infty} \\sin(\\pi x) $$ y $$ \\lim_{n \\to \\infty} \\sin(\\pi n) $$ referencia a lo mismo? Discute.\n",
        "\n",
        "(a) Para $$ \\lim_{x \\to \\infty} \\sin(\\pi x) $$:\n",
        "- La función seno oscila entre -1 y 1 para todos los valores de $$ x $$.\n",
        "- A medida que $$ x $$ se aproxima a infinito, $$ \\sin(\\pi x) $$ continuará oscilando y no converge a un valor específico.\n",
        "- Por lo tanto, $$ \\lim_{x \\to \\infty} \\sin(\\pi x) $$ no existe.\n",
        "\n",
        "(b) Para $$ \\lim_{n \\to \\infty} \\sin(\\pi n) $$:\n",
        "- Dado que $$ n $$ es un número entero, $$ \\pi n $$ será un múltiplo entero de $$ \\pi $$, lo que significa que $$ \\sin(\\pi n) = 0 $$ para todos los valores enteros de $$ n $$.\n",
        "- Así, $$ \\lim_{n \\to \\infty} \\sin(\\pi n) = 0 $$.\n",
        "\n",
        "(c) Conclusión:\n",
        "- Los dos límites no hacen referencia a lo mismo.\n",
        "- Mientras que $$ \\lim_{x \\to \\infty} \\sin(\\pi x) $$ no existe debido a la oscilación, $$ \\lim_{n \\to \\infty} \\sin(\\pi n) $$ converge a 0.\n"
      ],
      "metadata": {
        "id": "48abxsatLpzt"
      }
    },
    {
      "cell_type": "markdown",
      "source": [
        "(11)\n",
        "\n",
        "(a) Para demostrar que\n",
        "$$ -\\frac{1}{x} \\leq \\frac{\\sin(x)}{x} \\leq \\frac{1}{x} $$\n",
        "para todo \\( x > 0 \\):\n",
        "\n",
        "- Sabemos que \\( \\sin(x) \\) oscila entre -1 y 1 para todos los \\( x \\).\n",
        "- Por lo tanto, podemos escribir:\n",
        "  $$ -1 \\leq \\sin(x) \\leq 1 $$\n",
        "\n",
        "- Dividiendo toda la desigualdad por \\( x \\) (donde \\( x > 0 \\)), obtenemos:\n",
        "  $$ -\\frac{1}{x} \\leq \\frac{\\sin(x)}{x} \\leq \\frac{1}{x} $$\n",
        "\n",
        "Esto prueba la desigualdad requerida.\n",
        "\n",
        "(b) Usando la parte (a) para encontrar\n",
        "$$ \\lim_{x \\to \\infty} \\frac{\\sin(x)}{x} $$:\n",
        "\n",
        "- Dado que \\( -\\frac{1}{x} \\leq \\frac{\\sin(x)}{x} \\leq \\frac{1}{x} \\) para \\( x > 0 \\) y sabemos que:\n",
        "  $$ \\lim_{x \\to \\infty} -\\frac{1}{x} = 0 $$\n",
        "  $$ \\lim_{x \\to \\infty} \\frac{1}{x} = 0 $$\n",
        "\n",
        "- Aplicando el Teorema del Sandwich (o Squeeze Theorem):\n",
        "  $$ \\lim_{x \\to \\infty} \\frac{\\sin(x)}{x} = 0 $$\n",
        "\n",
        "Por lo tanto,\n",
        "$$ \\lim_{x \\to \\infty} \\frac{\\sin(x)}{x} = 0 $$.\n"
      ],
      "metadata": {
        "id": "N5g2EAQOMoGI"
      }
    }
  ]
}